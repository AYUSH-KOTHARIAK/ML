{
 "cells": [
  {
   "attachments": {},
   "cell_type": "markdown",
   "metadata": {},
   "source": [
    "speech_recognition"
   ]
  },
  {
   "cell_type": "code",
   "execution_count": 3,
   "metadata": {},
   "outputs": [
    {
     "ename": "SyntaxError",
     "evalue": "invalid syntax (1454619798.py, line 1)",
     "output_type": "error",
     "traceback": [
      "\u001b[1;36m  Cell \u001b[1;32mIn[3], line 1\u001b[1;36m\u001b[0m\n\u001b[1;33m    python.exe -m install speech_recognition\u001b[0m\n\u001b[1;37m                  ^\u001b[0m\n\u001b[1;31mSyntaxError\u001b[0m\u001b[1;31m:\u001b[0m invalid syntax\n"
     ]
    }
   ],
   "source": [
    "pip install speechrecognition"
   ]
  },
  {
   "cell_type": "code",
   "execution_count": 3,
   "metadata": {},
   "outputs": [
    {
     "name": "stdout",
     "output_type": "stream",
     "text": [
      "Collecting nltk\n",
      "  Downloading nltk-3.8.1-py3-none-any.whl (1.5 MB)\n",
      "                                              0.0/1.5 MB ? eta -:--:--\n",
      "     -                                        0.0/1.5 MB 2.0 MB/s eta 0:00:01\n",
      "     --                                       0.1/1.5 MB 919.0 kB/s eta 0:00:02\n",
      "     --                                       0.1/1.5 MB 731.4 kB/s eta 0:00:02\n",
      "     ---                                      0.1/1.5 MB 654.9 kB/s eta 0:00:03\n",
      "     ----                                     0.2/1.5 MB 655.4 kB/s eta 0:00:03\n",
      "     ------                                   0.3/1.5 MB 749.3 kB/s eta 0:00:02\n",
      "     ---------                                0.4/1.5 MB 919.0 kB/s eta 0:00:02\n",
      "     -------------                            0.5/1.5 MB 1.1 MB/s eta 0:00:01\n",
      "     ---------------                          0.6/1.5 MB 1.2 MB/s eta 0:00:01\n",
      "     ------------------                       0.7/1.5 MB 1.2 MB/s eta 0:00:01\n",
      "     ------------------                       0.7/1.5 MB 1.2 MB/s eta 0:00:01\n",
      "     ------------------                       0.7/1.5 MB 1.0 MB/s eta 0:00:01\n",
      "     -------------------                      0.7/1.5 MB 1.0 MB/s eta 0:00:01\n",
      "     -----------------------                  0.9/1.5 MB 1.2 MB/s eta 0:00:01\n",
      "     ------------------------                 0.9/1.5 MB 1.1 MB/s eta 0:00:01\n",
      "     ---------------------------              1.0/1.5 MB 1.2 MB/s eta 0:00:01\n",
      "     ----------------------------             1.1/1.5 MB 1.2 MB/s eta 0:00:01\n",
      "     ------------------------------           1.2/1.5 MB 1.2 MB/s eta 0:00:01\n",
      "     --------------------------------         1.2/1.5 MB 1.2 MB/s eta 0:00:01\n",
      "     -----------------------------------      1.4/1.5 MB 1.2 MB/s eta 0:00:01\n",
      "     -----------------------------------      1.4/1.5 MB 1.2 MB/s eta 0:00:01\n",
      "     -------------------------------------    1.4/1.5 MB 1.2 MB/s eta 0:00:01\n",
      "     ---------------------------------------  1.5/1.5 MB 1.2 MB/s eta 0:00:01\n",
      "     ---------------------------------------  1.5/1.5 MB 1.2 MB/s eta 0:00:01\n",
      "     ---------------------------------------- 1.5/1.5 MB 1.1 MB/s eta 0:00:00\n",
      "Requirement already satisfied: click in c:\\users\\ayush\\appdata\\local\\programs\\python\\python310\\lib\\site-packages (from nltk) (8.1.3)\n",
      "Collecting joblib (from nltk)\n",
      "  Downloading joblib-1.2.0-py3-none-any.whl (297 kB)\n",
      "                                              0.0/298.0 kB ? eta -:--:--\n",
      "     ---------                               71.7/298.0 kB 2.0 MB/s eta 0:00:01\n",
      "     --------------------------------       256.0/298.0 kB 2.6 MB/s eta 0:00:01\n",
      "     -------------------------------------  297.0/298.0 kB 2.3 MB/s eta 0:00:01\n",
      "     -------------------------------------- 298.0/298.0 kB 1.5 MB/s eta 0:00:00\n",
      "Collecting regex>=2021.8.3 (from nltk)\n",
      "  Downloading regex-2023.5.5-cp310-cp310-win_amd64.whl (267 kB)\n",
      "                                              0.0/267.9 kB ? eta -:--:--\n",
      "     --------                                61.4/267.9 kB 1.7 MB/s eta 0:00:01\n",
      "     --------------------                   143.4/267.9 kB 1.4 MB/s eta 0:00:01\n",
      "     ------------------------               174.1/267.9 kB 1.2 MB/s eta 0:00:01\n",
      "     ---------------------------------      235.5/267.9 kB 1.2 MB/s eta 0:00:01\n",
      "     -------------------------------------  266.2/267.9 kB 1.1 MB/s eta 0:00:01\n",
      "     -------------------------------------  266.2/267.9 kB 1.1 MB/s eta 0:00:01\n",
      "     ------------------------------------ 267.9/267.9 kB 785.6 kB/s eta 0:00:00\n",
      "Collecting tqdm (from nltk)\n",
      "  Downloading tqdm-4.65.0-py3-none-any.whl (77 kB)\n",
      "                                              0.0/77.1 kB ? eta -:--:--\n",
      "     -------------------------------------    71.7/77.1 kB 2.0 MB/s eta 0:00:01\n",
      "     -------------------------------------    71.7/77.1 kB 2.0 MB/s eta 0:00:01\n",
      "     -------------------------------------- 77.1/77.1 kB 613.3 kB/s eta 0:00:00\n",
      "Requirement already satisfied: colorama in c:\\users\\ayush\\appdata\\roaming\\python\\python310\\site-packages (from click->nltk) (0.4.6)\n",
      "Installing collected packages: tqdm, regex, joblib, nltk\n",
      "Successfully installed joblib-1.2.0 nltk-3.8.1 regex-2023.5.5 tqdm-4.65.0\n",
      "Note: you may need to restart the kernel to use updated packages.\n"
     ]
    }
   ],
   "source": [
    "pip install nltk"
   ]
  },
  {
   "cell_type": "code",
   "execution_count": 1,
   "metadata": {},
   "outputs": [
    {
     "name": "stdout",
     "output_type": "stream",
     "text": [
      "Requirement already satisfied: nlpk in c:\\users\\ayush\\appdata\\local\\programs\\python\\python310\\lib\\site-packages (0.0.6)\n",
      "Note: you may need to restart the kernel to use updated packages.\n"
     ]
    }
   ],
   "source": [
    "pip install nlpk"
   ]
  },
  {
   "cell_type": "code",
   "execution_count": 1,
   "metadata": {},
   "outputs": [],
   "source": [
    "import pyttsx3\n",
    "import speech_recognition as sr\n",
    "import nltk\n"
   ]
  },
  {
   "cell_type": "code",
   "execution_count": 2,
   "metadata": {},
   "outputs": [],
   "source": [
    "spEng = pyttsx3.init()"
   ]
  },
  {
   "cell_type": "code",
   "execution_count": 3,
   "metadata": {},
   "outputs": [],
   "source": [
    "spEng = pyttsx3.init()\n",
    "spEng.say('Ayush')\n",
    "spEng.runAndWait()"
   ]
  },
  {
   "cell_type": "code",
   "execution_count": 4,
   "metadata": {},
   "outputs": [
    {
     "ename": "SyntaxError",
     "evalue": "invalid character '…' (U+2026) (1281271195.py, line 1)",
     "output_type": "error",
     "traceback": [
      "\u001b[1;36m  Cell \u001b[1;32mIn[4], line 1\u001b[1;36m\u001b[0m\n\u001b[1;33m    Python is a high-level, general-purpose programming language. Its design philosophy emphasizes code readability with the use of significant indentation via the off-side rule. Python is dynamically typ…\u001b[0m\n\u001b[1;37m                                                                                                                                                                                                            ^\u001b[0m\n\u001b[1;31mSyntaxError\u001b[0m\u001b[1;31m:\u001b[0m invalid character '…' (U+2026)\n"
     ]
    }
   ],
   "source": []
  },
  {
   "cell_type": "code",
   "execution_count": 11,
   "metadata": {},
   "outputs": [],
   "source": [
    "spEng = pyttsx3.init()\n",
    "spEng.say(' Imitates Human Conversation The core feature of ChatGPT centers on providing human-like conversation based on user-placed queries or commands. It is generally similar to virtual assistant technologies and software applications such as Siri from Apple and Alexa from Amazon. However, considering its capabilities, it mimics real-life conversation because it is based on more advanced supervised learning and reinforcement learning using large language models. 2. Built Based on Advanced GPT Model GPT-3 is an autoregressive language and language prediction model developed by OpenAI. It is one largest non-sparse language models and has been considered one of the most important AI systems ever produced. The subscription-based ChatGPT Plus is also based on GPT-4 which is larger and more advanced than GPT-3. The quality of texts it generates makes it difficult to ascertain whether or not it is written by a human.')\n",
    "spEng.runAndWait()"
   ]
  },
  {
   "cell_type": "code",
   "execution_count": 17,
   "metadata": {},
   "outputs": [],
   "source": [
    "spEng = pyttsx3.init()\n",
    "spEng.setProperty('rate',60)   ## speed of speech\n",
    "spEng.say('hello')\n",
    "spEng.runAndWait()"
   ]
  },
  {
   "cell_type": "code",
   "execution_count": 18,
   "metadata": {},
   "outputs": [],
   "source": [
    "recognizer = sr.Recognizer()"
   ]
  },
  {
   "attachments": {},
   "cell_type": "markdown",
   "metadata": {},
   "source": [
    "## Attach mic for voice recognition\n"
   ]
  },
  {
   "cell_type": "code",
   "execution_count": 41,
   "metadata": {},
   "outputs": [
    {
     "name": "stdout",
     "output_type": "stream",
     "text": [
      "say:hello Sourav is my best friend\n"
     ]
    }
   ],
   "source": [
    "with sr.Microphone() as mic:\n",
    "    print('say:',end='')\n",
    "    audio = recognizer.listen(mic,timeout=10)\n",
    "    try:\n",
    "        text = recognizer.recognize_google(audio)\n",
    "        print(text)\n",
    "    except Exception as err:\n",
    "        print('Could not recognise')"
   ]
  },
  {
   "cell_type": "code",
   "execution_count": 37,
   "metadata": {},
   "outputs": [
    {
     "name": "stdout",
     "output_type": "stream",
     "text": [
      "say:hello Saurabh my friend\n"
     ]
    }
   ],
   "source": [
    "with sr.Microphone() as mic:\n",
    "    print('say:',end='')\n",
    "    audio = recognizer.listen(mic,timeout=1,phrase_time_limit=10)  ## timeout = time with no audio ,, phrase_time_limit == recognisation limit\n",
    "    try:\n",
    "        text = recognizer.recognize_google(audio)\n",
    "        print(text)\n",
    "    except Exception as err:\n",
    "        print('Could not recognise')"
   ]
  },
  {
   "cell_type": "code",
   "execution_count": 32,
   "metadata": {},
   "outputs": [
    {
     "data": {
      "text/plain": [
       "'hello my name is I am big fan of yours what is your name please tell me your name'"
      ]
     },
     "execution_count": 32,
     "metadata": {},
     "output_type": "execute_result"
    }
   ],
   "source": [
    "text"
   ]
  },
  {
   "cell_type": "code",
   "execution_count": 42,
   "metadata": {},
   "outputs": [],
   "source": [
    "spEng = pyttsx3.init()\n",
    "spEng.setProperty('rate',60)   ## speed of speech\n",
    "spEng.say(text)\n",
    "spEng.runAndWait()"
   ]
  },
  {
   "cell_type": "code",
   "execution_count": null,
   "metadata": {},
   "outputs": [],
   "source": []
  }
 ],
 "metadata": {
  "kernelspec": {
   "display_name": "Python 3",
   "language": "python",
   "name": "python3"
  },
  "language_info": {
   "codemirror_mode": {
    "name": "ipython",
    "version": 3
   },
   "file_extension": ".py",
   "mimetype": "text/x-python",
   "name": "python",
   "nbconvert_exporter": "python",
   "pygments_lexer": "ipython3",
   "version": "3.10.10"
  },
  "orig_nbformat": 4
 },
 "nbformat": 4,
 "nbformat_minor": 2
}
