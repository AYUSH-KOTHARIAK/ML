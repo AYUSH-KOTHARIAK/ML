{
 "cells": [
  {
   "cell_type": "code",
   "execution_count": 52,
   "metadata": {},
   "outputs": [],
   "source": [
    "import cv2\n",
    "import matplotlib.pyplot as plt"
   ]
  },
  {
   "cell_type": "code",
   "execution_count": 61,
   "metadata": {},
   "outputs": [],
   "source": [
    "img = cv2.imread('robot_hero.jpg')"
   ]
  },
  {
   "cell_type": "code",
   "execution_count": 35,
   "metadata": {},
   "outputs": [
    {
     "data": {
      "text/plain": [
       "(460, 816, 3)"
      ]
     },
     "execution_count": 35,
     "metadata": {},
     "output_type": "execute_result"
    }
   ],
   "source": [
    "img.shape"
   ]
  },
  {
   "cell_type": "code",
   "execution_count": 36,
   "metadata": {},
   "outputs": [],
   "source": [
    "def imshow(im):\n",
    "    cv2.imshow('Preview', im)\n",
    "    cv2.waitKey(0)\n",
    "    cv2.destroyAllWindows()\n",
    "\n"
   ]
  },
  {
   "cell_type": "code",
   "execution_count": 54,
   "metadata": {},
   "outputs": [
    {
     "ename": "NameError",
     "evalue": "name 'INTER_CUBIC' is not defined",
     "output_type": "error",
     "traceback": [
      "\u001b[1;31m---------------------------------------------------------------------------\u001b[0m",
      "\u001b[1;31mNameError\u001b[0m                                 Traceback (most recent call last)",
      "Cell \u001b[1;32mIn[54], line 1\u001b[0m\n\u001b[1;32m----> 1\u001b[0m img_res \u001b[39m=\u001b[39m cv2\u001b[39m.\u001b[39mresize(img, (\u001b[39m300\u001b[39m,\u001b[39m300\u001b[39m), interpolation\u001b[39m=\u001b[39mINTER_CUBIC)\n\u001b[0;32m      2\u001b[0m \u001b[39mprint\u001b[39m(img_res\u001b[39m.\u001b[39mshape)\n",
      "\u001b[1;31mNameError\u001b[0m: name 'INTER_CUBIC' is not defined"
     ]
    }
   ],
   "source": [
    "img_res = cv2.resize(img, (300,300), interpolation=cv2.INTER_CUBIC)\n",
    "print(img_res.shape)"
   ]
  },
  {
   "cell_type": "code",
   "execution_count": 37,
   "metadata": {},
   "outputs": [],
   "source": [
    "# Resizing of images \n",
    "img_r1 = cv2.resize(img, (300,300), interpolation=cv2.INTER_CUBIC) # width, height\n",
    "imshow(img_r1)"
   ]
  },
  {
   "cell_type": "code",
   "execution_count": 38,
   "metadata": {},
   "outputs": [
    {
     "data": {
      "text/plain": [
       "(300, 300, 3)"
      ]
     },
     "execution_count": 38,
     "metadata": {},
     "output_type": "execute_result"
    }
   ],
   "source": [
    "img_r1.shape"
   ]
  },
  {
   "cell_type": "code",
   "execution_count": 39,
   "metadata": {},
   "outputs": [],
   "source": [
    "img_r2 = cv2.resize(img, None, fx=1.5, fy=1, interpolation=cv2.INTER_CUBIC) \n",
    "imshow(img_r2)\n",
    " \n"
   ]
  },
  {
   "cell_type": "code",
   "execution_count": 40,
   "metadata": {},
   "outputs": [
    {
     "data": {
      "text/plain": [
       "(460, 1224, 3)"
      ]
     },
     "execution_count": 40,
     "metadata": {},
     "output_type": "execute_result"
    }
   ],
   "source": [
    "img_r2.shape"
   ]
  },
  {
   "cell_type": "code",
   "execution_count": 47,
   "metadata": {},
   "outputs": [],
   "source": [
    "# Image Rotation \n",
    "# rows,cols, = img.shape\n",
    "# M = cv2.getRotationMatrix2D((cols/2, rows/2), 90, 1)\n",
    "# dst = cv2.warpAffine(img,M,(cols,rows))"
   ]
  },
  {
   "cell_type": "code",
   "execution_count": 32,
   "metadata": {},
   "outputs": [],
   "source": [
    "from skimage.transform import rotate"
   ]
  },
  {
   "cell_type": "code",
   "execution_count": 45,
   "metadata": {},
   "outputs": [],
   "source": [
    "image = cv2.imread('robot_hero.jpg')"
   ]
  },
  {
   "cell_type": "code",
   "execution_count": 53,
   "metadata": {},
   "outputs": [],
   "source": [
    "\n",
    "image_rotated = rotate(image, angle=-45, resize=True) # Here True give the campus area of resizes image \n",
    "imshow(image_rotated)"
   ]
  },
  {
   "cell_type": "code",
   "execution_count": 63,
   "metadata": {},
   "outputs": [],
   "source": [
    "# Sir \n",
    "from time import sleep\n",
    "for a in range(0,361,5):\n",
    "    img_rot = rotate(img, angle=a, resize=True)\n",
    "    cv2.imshow('', img_rot)\n",
    "    cv2.waitKey(1)\n",
    "    sleep(0.1)\n",
    "cv2.destroyAllWindows()"
   ]
  },
  {
   "cell_type": "code",
   "execution_count": 64,
   "metadata": {},
   "outputs": [],
   "source": [
    "# Sir \n",
    "from time import sleep\n",
    "import numpy as np\n",
    "for a in np.arange(0.1,3.0,-0.1):\n",
    "    img_res = cv2.resize(img, None, fx=a, fy=a, interpolation=cv2.INTER_CUBIC)\n",
    "    cv2.imshow('', img_res)\n",
    "    cv2.waitKey(1)\n",
    "    sleep(0.1)\n",
    "cv2.destroyAllWindows()"
   ]
  },
  {
   "cell_type": "code",
   "execution_count": 68,
   "metadata": {},
   "outputs": [
    {
     "data": {
      "text/plain": [
       "-1"
      ]
     },
     "execution_count": 68,
     "metadata": {},
     "output_type": "execute_result"
    }
   ],
   "source": [
    "# Image Fliping \n",
    "src = cv2.imread('robot_hero.jpg')\n",
    "image = cv2.flip(src, 0)\n",
    "cv2.imshow('previw', image)\n",
    "cv2.waitKey(0)"
   ]
  },
  {
   "cell_type": "code",
   "execution_count": 66,
   "metadata": {},
   "outputs": [],
   "source": [
    "# from skimage.io import imread\n",
    "# from numpy import fliplr, flipud\n",
    "# dog = imread('pupp.jpg')\n",
    "# cat = imread('catty.jpg')\n",
    "\n",
    "# dog_flip = fliplr(dog)\n",
    "# cat_flip = fliplr(cat)"
   ]
  },
  {
   "cell_type": "code",
   "execution_count": 67,
   "metadata": {},
   "outputs": [
    {
     "data": {
      "text/plain": [
       "-1"
      ]
     },
     "execution_count": 67,
     "metadata": {},
     "output_type": "execute_result"
    }
   ],
   "source": [
    "# Standard Colors \n",
    "'''\n",
    "RED\n",
    "GREEN \n",
    "BLUE\n",
    "CYAN\n",
    "MAGENTA\n",
    "\n",
    "'''"
   ]
  },
  {
   "cell_type": "code",
   "execution_count": null,
   "metadata": {},
   "outputs": [],
   "source": []
  }
 ],
 "metadata": {
  "kernelspec": {
   "display_name": "Python 3",
   "language": "python",
   "name": "python3"
  },
  "language_info": {
   "codemirror_mode": {
    "name": "ipython",
    "version": 3
   },
   "file_extension": ".py",
   "mimetype": "text/x-python",
   "name": "python",
   "nbconvert_exporter": "python",
   "pygments_lexer": "ipython3",
   "version": "3.10.5"
  },
  "orig_nbformat": 4
 },
 "nbformat": 4,
 "nbformat_minor": 2
}
